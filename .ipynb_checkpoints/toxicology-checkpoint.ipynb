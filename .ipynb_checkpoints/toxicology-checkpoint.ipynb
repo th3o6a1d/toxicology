{
 "metadata": {
  "name": "",
  "signature": "sha256:ce1fb7685d53c0d2a277ac050775107ad23fe46079fe49a5dcc4adeecf6fe488"
 },
 "nbformat": 3,
 "nbformat_minor": 0,
 "worksheets": [
  {
   "cells": [
    {
     "cell_type": "markdown",
     "metadata": {},
     "source": [
      "# Building a Poison Control API from MSDS Data Sheets\n",
      "1. The Data\n",
      "2. Building the Database\n",
      "3. Serving up JSON with Flask\n",
      "4. Creating an Emergency Text Message System with Twilio"
     ]
    },
    {
     "cell_type": "markdown",
     "metadata": {},
     "source": [
      "## 1. The Data\n",
      "\n",
      "The data consist of 230,000 material safety data sheets stored in alphabetically-organized .txt files. The files are mostly in [OSHA format](https://www.osha.gov/Publications/OSHA3514.html), and are available as Amazon EBS snapshot `snap-a966d1c8`. To see a few examples, click here.\n"
     ]
    },
    {
     "cell_type": "markdown",
     "metadata": {},
     "source": [
      "## 2. Building the Database\n",
      "\n"
     ]
    },
    {
     "cell_type": "code",
     "collapsed": false,
     "input": [],
     "language": "python",
     "metadata": {},
     "outputs": []
    }
   ],
   "metadata": {}
  }
 ]
}