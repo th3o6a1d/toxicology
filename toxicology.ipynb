{
 "metadata": {
  "name": "",
  "signature": "sha256:ac724ae096c82857042333551823b0e1f665e28ce608ea03876e20bd0ccc7715"
 },
 "nbformat": 3,
 "nbformat_minor": 0,
 "worksheets": [
  {
   "cells": [
    {
     "cell_type": "markdown",
     "metadata": {},
     "source": [
      "# Building a Poison Control API and Emergency Text System from MSDS Data Sheets\n",
      "1. The Goal\n",
      "2. The Data\n",
      "3. Building the Database\n",
      "4. Serving up JSON with Flask\n",
      "5. Creating an Emergency Text Message System with Twilio"
     ]
    },
    {
     "cell_type": "markdown",
     "metadata": {},
     "source": [
      "## 1. The Goal:\n",
      "\n",
      "To create a poison control database with information contained in freely available Material Safety Data Sheets. \n",
      "\n",
      "To \n",
      "\n",
      "To enable a user to receive first aid information via a "
     ]
    },
    {
     "cell_type": "markdown",
     "metadata": {},
     "source": [
      "## 1. The Data\n",
      "\n",
      "The data consist of 230,000 material safety data sheets stored in alphabetically-organized .txt files, most of which are in a standard [format](https://www.osha.gov/Publications/OSHA3514.html) with a predictable structure. The files are available as a public Amazon EBS snapshot `snap-a966d1c8`, which we mounted to our DwD instance following [these](http://docs.aws.amazon.com/AWSEC2/latest/UserGuide/ebs-using-volumes.html) instructions. The data were submitted by Infochimps to Amazon and are said to come from [hazard.com](hazard.com), which is run by Vermont Safety Information Resources, inc.\n"
     ]
    },
    {
     "cell_type": "markdown",
     "metadata": {},
     "source": [
      "## 2. Building the Database\n",
      "\n"
     ]
    },
    {
     "cell_type": "code",
     "collapsed": false,
     "input": [
      "We designed our database to contain three tables. First, we loaded "
     ],
     "language": "python",
     "metadata": {},
     "outputs": []
    }
   ],
   "metadata": {}
  }
 ]
}